{
 "cells": [
  {
   "cell_type": "markdown",
   "id": "49618372",
   "metadata": {},
   "source": [
    "# Цель\n",
    "Построение рекомендательной системы с учетом предпочтений клиентов и имеющихся оценок у продукта\n",
    "\n",
    "# Задачи\n",
    "1) Провести разведывательный анализ данных. \n",
    "2) Выполнить предобработку данных.\n",
    "3) Построить модель LightFM.\n",
    "4) Оценить качество модели и предоставить результат.\n"
   ]
  },
  {
   "cell_type": "code",
   "execution_count": 1,
   "id": "d39da927",
   "metadata": {},
   "outputs": [
    {
     "name": "stderr",
     "output_type": "stream",
     "text": [
      "/Users/imac/anaconda3/lib/python3.8/site-packages/lightfm/_lightfm_fast.py:9: UserWarning: LightFM was compiled without OpenMP support. Only a single thread will be used.\n",
      "  warnings.warn(\n"
     ]
    }
   ],
   "source": [
    "import numpy as np # linear algebra\n",
    "import pandas as pd # data processing, CSV file I/O (e.g. pd.read_csv)\n",
    "\n",
    "import datetime\n",
    "from datetime import datetime # подгружаем библиотеку для работы с датами в датасете\n",
    "\n",
    "from textblob import TextBlob # библиотека для анализа отзывов клиентов\n",
    "\n",
    "import matplotlib.pyplot as plt\n",
    "import seaborn as sns # библиотеки для визуализации результатов\n",
    "\n",
    "from sklearn.preprocessing import LabelEncoder, OneHotEncoder, StandardScaler # библиотеки для преобразования \n",
    "# категориальных признаков и стандартизации значений признаков\n",
    "import sklearn\n",
    "import scipy.sparse as sparse\n",
    "\n",
    "from pandas import Series \n",
    "from sklearn.feature_selection import f_classif, mutual_info_classif\n",
    "# понадобится для разложения признаков на отдельные столбцы для анализа \n",
    "# значимости каждого признака\n",
    "\n",
    "from lightfm import LightFM # подгружаем модель для обучения\n",
    "from lightfm.cross_validation import random_train_test_split # подгружаем для разделения датасета\n",
    "from lightfm.evaluation import auc_score, precision_at_k, recall_at_k # подгружаем метрики качества обучения\n",
    "from sklearn.metrics import confusion_matrix\n",
    "from sklearn.metrics import auc, roc_auc_score, roc_curve\n",
    "from sklearn.metrics import classification_report\n",
    "from sklearn.model_selection import train_test_split\n",
    "\n",
    "import os\n",
    "for dirname, _, filenames in os.walk('/kaggle/input'):\n",
    "    for filename in filenames:\n",
    "        print(os.path.join(dirname, filename))\n"
   ]
  },
  {
   "cell_type": "code",
   "execution_count": 2,
   "id": "90b5f7f1",
   "metadata": {},
   "outputs": [
    {
     "name": "stdout",
     "output_type": "stream",
     "text": [
      "Unknown option: -n\r\n",
      "usage: python [option] ... [-c cmd | -m mod | file | -] [arg] ...\r\n",
      "Try `python -h' for more information.\r\n"
     ]
    }
   ],
   "source": [
    "# Отключаем предупреждения\n",
    "!python -no-warning foo.py"
   ]
  },
  {
   "cell_type": "code",
   "execution_count": 114,
   "id": "a222d89a",
   "metadata": {},
   "outputs": [
    {
     "ename": "FileNotFoundError",
     "evalue": "[Errno 2] No such file or directory: '/kaggle/input/recommendationsv4/train.csv'",
     "output_type": "error",
     "traceback": [
      "\u001b[0;31m---------------------------------------------------------------------------\u001b[0m",
      "\u001b[0;31mFileNotFoundError\u001b[0m                         Traceback (most recent call last)",
      "\u001b[0;32m<ipython-input-114-78d0a807002f>\u001b[0m in \u001b[0;36m<module>\u001b[0;34m\u001b[0m\n\u001b[0;32m----> 1\u001b[0;31m \u001b[0mtrain\u001b[0m \u001b[0;34m=\u001b[0m \u001b[0mpd\u001b[0m\u001b[0;34m.\u001b[0m\u001b[0mread_csv\u001b[0m\u001b[0;34m(\u001b[0m\u001b[0;34m'/kaggle/input/recommendationsv4/train.csv'\u001b[0m\u001b[0;34m)\u001b[0m\u001b[0;34m\u001b[0m\u001b[0;34m\u001b[0m\u001b[0m\n\u001b[0m\u001b[1;32m      2\u001b[0m \u001b[0mtest\u001b[0m \u001b[0;34m=\u001b[0m \u001b[0mpd\u001b[0m\u001b[0;34m.\u001b[0m\u001b[0mread_csv\u001b[0m\u001b[0;34m(\u001b[0m\u001b[0;34m'/kaggle/input/recommendationsv4/test.csv'\u001b[0m\u001b[0;34m)\u001b[0m\u001b[0;34m\u001b[0m\u001b[0;34m\u001b[0m\u001b[0m\n\u001b[1;32m      3\u001b[0m \u001b[0msubmission\u001b[0m \u001b[0;34m=\u001b[0m \u001b[0mpd\u001b[0m\u001b[0;34m.\u001b[0m\u001b[0mread_csv\u001b[0m\u001b[0;34m(\u001b[0m\u001b[0;34m'/kaggle/input/recommendationsv4/sample_submission.csv'\u001b[0m\u001b[0;34m)\u001b[0m\u001b[0;34m\u001b[0m\u001b[0;34m\u001b[0m\u001b[0m\n",
      "\u001b[0;32m~/anaconda3/lib/python3.8/site-packages/pandas/io/parsers.py\u001b[0m in \u001b[0;36mread_csv\u001b[0;34m(filepath_or_buffer, sep, delimiter, header, names, index_col, usecols, squeeze, prefix, mangle_dupe_cols, dtype, engine, converters, true_values, false_values, skipinitialspace, skiprows, skipfooter, nrows, na_values, keep_default_na, na_filter, verbose, skip_blank_lines, parse_dates, infer_datetime_format, keep_date_col, date_parser, dayfirst, cache_dates, iterator, chunksize, compression, thousands, decimal, lineterminator, quotechar, quoting, doublequote, escapechar, comment, encoding, dialect, error_bad_lines, warn_bad_lines, delim_whitespace, low_memory, memory_map, float_precision, storage_options)\u001b[0m\n\u001b[1;32m    608\u001b[0m     \u001b[0mkwds\u001b[0m\u001b[0;34m.\u001b[0m\u001b[0mupdate\u001b[0m\u001b[0;34m(\u001b[0m\u001b[0mkwds_defaults\u001b[0m\u001b[0;34m)\u001b[0m\u001b[0;34m\u001b[0m\u001b[0;34m\u001b[0m\u001b[0m\n\u001b[1;32m    609\u001b[0m \u001b[0;34m\u001b[0m\u001b[0m\n\u001b[0;32m--> 610\u001b[0;31m     \u001b[0;32mreturn\u001b[0m \u001b[0m_read\u001b[0m\u001b[0;34m(\u001b[0m\u001b[0mfilepath_or_buffer\u001b[0m\u001b[0;34m,\u001b[0m \u001b[0mkwds\u001b[0m\u001b[0;34m)\u001b[0m\u001b[0;34m\u001b[0m\u001b[0;34m\u001b[0m\u001b[0m\n\u001b[0m\u001b[1;32m    611\u001b[0m \u001b[0;34m\u001b[0m\u001b[0m\n\u001b[1;32m    612\u001b[0m \u001b[0;34m\u001b[0m\u001b[0m\n",
      "\u001b[0;32m~/anaconda3/lib/python3.8/site-packages/pandas/io/parsers.py\u001b[0m in \u001b[0;36m_read\u001b[0;34m(filepath_or_buffer, kwds)\u001b[0m\n\u001b[1;32m    460\u001b[0m \u001b[0;34m\u001b[0m\u001b[0m\n\u001b[1;32m    461\u001b[0m     \u001b[0;31m# Create the parser.\u001b[0m\u001b[0;34m\u001b[0m\u001b[0;34m\u001b[0m\u001b[0;34m\u001b[0m\u001b[0m\n\u001b[0;32m--> 462\u001b[0;31m     \u001b[0mparser\u001b[0m \u001b[0;34m=\u001b[0m \u001b[0mTextFileReader\u001b[0m\u001b[0;34m(\u001b[0m\u001b[0mfilepath_or_buffer\u001b[0m\u001b[0;34m,\u001b[0m \u001b[0;34m**\u001b[0m\u001b[0mkwds\u001b[0m\u001b[0;34m)\u001b[0m\u001b[0;34m\u001b[0m\u001b[0;34m\u001b[0m\u001b[0m\n\u001b[0m\u001b[1;32m    463\u001b[0m \u001b[0;34m\u001b[0m\u001b[0m\n\u001b[1;32m    464\u001b[0m     \u001b[0;32mif\u001b[0m \u001b[0mchunksize\u001b[0m \u001b[0;32mor\u001b[0m \u001b[0miterator\u001b[0m\u001b[0;34m:\u001b[0m\u001b[0;34m\u001b[0m\u001b[0;34m\u001b[0m\u001b[0m\n",
      "\u001b[0;32m~/anaconda3/lib/python3.8/site-packages/pandas/io/parsers.py\u001b[0m in \u001b[0;36m__init__\u001b[0;34m(self, f, engine, **kwds)\u001b[0m\n\u001b[1;32m    817\u001b[0m             \u001b[0mself\u001b[0m\u001b[0;34m.\u001b[0m\u001b[0moptions\u001b[0m\u001b[0;34m[\u001b[0m\u001b[0;34m\"has_index_names\"\u001b[0m\u001b[0;34m]\u001b[0m \u001b[0;34m=\u001b[0m \u001b[0mkwds\u001b[0m\u001b[0;34m[\u001b[0m\u001b[0;34m\"has_index_names\"\u001b[0m\u001b[0;34m]\u001b[0m\u001b[0;34m\u001b[0m\u001b[0;34m\u001b[0m\u001b[0m\n\u001b[1;32m    818\u001b[0m \u001b[0;34m\u001b[0m\u001b[0m\n\u001b[0;32m--> 819\u001b[0;31m         \u001b[0mself\u001b[0m\u001b[0;34m.\u001b[0m\u001b[0m_engine\u001b[0m \u001b[0;34m=\u001b[0m \u001b[0mself\u001b[0m\u001b[0;34m.\u001b[0m\u001b[0m_make_engine\u001b[0m\u001b[0;34m(\u001b[0m\u001b[0mself\u001b[0m\u001b[0;34m.\u001b[0m\u001b[0mengine\u001b[0m\u001b[0;34m)\u001b[0m\u001b[0;34m\u001b[0m\u001b[0;34m\u001b[0m\u001b[0m\n\u001b[0m\u001b[1;32m    820\u001b[0m \u001b[0;34m\u001b[0m\u001b[0m\n\u001b[1;32m    821\u001b[0m     \u001b[0;32mdef\u001b[0m \u001b[0mclose\u001b[0m\u001b[0;34m(\u001b[0m\u001b[0mself\u001b[0m\u001b[0;34m)\u001b[0m\u001b[0;34m:\u001b[0m\u001b[0;34m\u001b[0m\u001b[0;34m\u001b[0m\u001b[0m\n",
      "\u001b[0;32m~/anaconda3/lib/python3.8/site-packages/pandas/io/parsers.py\u001b[0m in \u001b[0;36m_make_engine\u001b[0;34m(self, engine)\u001b[0m\n\u001b[1;32m   1048\u001b[0m             )\n\u001b[1;32m   1049\u001b[0m         \u001b[0;31m# error: Too many arguments for \"ParserBase\"\u001b[0m\u001b[0;34m\u001b[0m\u001b[0;34m\u001b[0m\u001b[0;34m\u001b[0m\u001b[0m\n\u001b[0;32m-> 1050\u001b[0;31m         \u001b[0;32mreturn\u001b[0m \u001b[0mmapping\u001b[0m\u001b[0;34m[\u001b[0m\u001b[0mengine\u001b[0m\u001b[0;34m]\u001b[0m\u001b[0;34m(\u001b[0m\u001b[0mself\u001b[0m\u001b[0;34m.\u001b[0m\u001b[0mf\u001b[0m\u001b[0;34m,\u001b[0m \u001b[0;34m**\u001b[0m\u001b[0mself\u001b[0m\u001b[0;34m.\u001b[0m\u001b[0moptions\u001b[0m\u001b[0;34m)\u001b[0m  \u001b[0;31m# type: ignore[call-arg]\u001b[0m\u001b[0;34m\u001b[0m\u001b[0;34m\u001b[0m\u001b[0m\n\u001b[0m\u001b[1;32m   1051\u001b[0m \u001b[0;34m\u001b[0m\u001b[0m\n\u001b[1;32m   1052\u001b[0m     \u001b[0;32mdef\u001b[0m \u001b[0m_failover_to_python\u001b[0m\u001b[0;34m(\u001b[0m\u001b[0mself\u001b[0m\u001b[0;34m)\u001b[0m\u001b[0;34m:\u001b[0m\u001b[0;34m\u001b[0m\u001b[0;34m\u001b[0m\u001b[0m\n",
      "\u001b[0;32m~/anaconda3/lib/python3.8/site-packages/pandas/io/parsers.py\u001b[0m in \u001b[0;36m__init__\u001b[0;34m(self, src, **kwds)\u001b[0m\n\u001b[1;32m   1865\u001b[0m \u001b[0;34m\u001b[0m\u001b[0m\n\u001b[1;32m   1866\u001b[0m         \u001b[0;31m# open handles\u001b[0m\u001b[0;34m\u001b[0m\u001b[0;34m\u001b[0m\u001b[0;34m\u001b[0m\u001b[0m\n\u001b[0;32m-> 1867\u001b[0;31m         \u001b[0mself\u001b[0m\u001b[0;34m.\u001b[0m\u001b[0m_open_handles\u001b[0m\u001b[0;34m(\u001b[0m\u001b[0msrc\u001b[0m\u001b[0;34m,\u001b[0m \u001b[0mkwds\u001b[0m\u001b[0;34m)\u001b[0m\u001b[0;34m\u001b[0m\u001b[0;34m\u001b[0m\u001b[0m\n\u001b[0m\u001b[1;32m   1868\u001b[0m         \u001b[0;32massert\u001b[0m \u001b[0mself\u001b[0m\u001b[0;34m.\u001b[0m\u001b[0mhandles\u001b[0m \u001b[0;32mis\u001b[0m \u001b[0;32mnot\u001b[0m \u001b[0;32mNone\u001b[0m\u001b[0;34m\u001b[0m\u001b[0;34m\u001b[0m\u001b[0m\n\u001b[1;32m   1869\u001b[0m         \u001b[0;32mfor\u001b[0m \u001b[0mkey\u001b[0m \u001b[0;32min\u001b[0m \u001b[0;34m(\u001b[0m\u001b[0;34m\"storage_options\"\u001b[0m\u001b[0;34m,\u001b[0m \u001b[0;34m\"encoding\"\u001b[0m\u001b[0;34m,\u001b[0m \u001b[0;34m\"memory_map\"\u001b[0m\u001b[0;34m,\u001b[0m \u001b[0;34m\"compression\"\u001b[0m\u001b[0;34m)\u001b[0m\u001b[0;34m:\u001b[0m\u001b[0;34m\u001b[0m\u001b[0;34m\u001b[0m\u001b[0m\n",
      "\u001b[0;32m~/anaconda3/lib/python3.8/site-packages/pandas/io/parsers.py\u001b[0m in \u001b[0;36m_open_handles\u001b[0;34m(self, src, kwds)\u001b[0m\n\u001b[1;32m   1360\u001b[0m         \u001b[0mLet\u001b[0m \u001b[0mthe\u001b[0m \u001b[0mreaders\u001b[0m \u001b[0mopen\u001b[0m \u001b[0mIOHanldes\u001b[0m \u001b[0mafter\u001b[0m \u001b[0mthey\u001b[0m \u001b[0mare\u001b[0m \u001b[0mdone\u001b[0m \u001b[0;32mwith\u001b[0m \u001b[0mtheir\u001b[0m \u001b[0mpotential\u001b[0m \u001b[0mraises\u001b[0m\u001b[0;34m.\u001b[0m\u001b[0;34m\u001b[0m\u001b[0;34m\u001b[0m\u001b[0m\n\u001b[1;32m   1361\u001b[0m         \"\"\"\n\u001b[0;32m-> 1362\u001b[0;31m         self.handles = get_handle(\n\u001b[0m\u001b[1;32m   1363\u001b[0m             \u001b[0msrc\u001b[0m\u001b[0;34m,\u001b[0m\u001b[0;34m\u001b[0m\u001b[0;34m\u001b[0m\u001b[0m\n\u001b[1;32m   1364\u001b[0m             \u001b[0;34m\"r\"\u001b[0m\u001b[0;34m,\u001b[0m\u001b[0;34m\u001b[0m\u001b[0;34m\u001b[0m\u001b[0m\n",
      "\u001b[0;32m~/anaconda3/lib/python3.8/site-packages/pandas/io/common.py\u001b[0m in \u001b[0;36mget_handle\u001b[0;34m(path_or_buf, mode, encoding, compression, memory_map, is_text, errors, storage_options)\u001b[0m\n\u001b[1;32m    640\u001b[0m                 \u001b[0merrors\u001b[0m \u001b[0;34m=\u001b[0m \u001b[0;34m\"replace\"\u001b[0m\u001b[0;34m\u001b[0m\u001b[0;34m\u001b[0m\u001b[0m\n\u001b[1;32m    641\u001b[0m             \u001b[0;31m# Encoding\u001b[0m\u001b[0;34m\u001b[0m\u001b[0;34m\u001b[0m\u001b[0;34m\u001b[0m\u001b[0m\n\u001b[0;32m--> 642\u001b[0;31m             handle = open(\n\u001b[0m\u001b[1;32m    643\u001b[0m                 \u001b[0mhandle\u001b[0m\u001b[0;34m,\u001b[0m\u001b[0;34m\u001b[0m\u001b[0;34m\u001b[0m\u001b[0m\n\u001b[1;32m    644\u001b[0m                 \u001b[0mioargs\u001b[0m\u001b[0;34m.\u001b[0m\u001b[0mmode\u001b[0m\u001b[0;34m,\u001b[0m\u001b[0;34m\u001b[0m\u001b[0;34m\u001b[0m\u001b[0m\n",
      "\u001b[0;31mFileNotFoundError\u001b[0m: [Errno 2] No such file or directory: '/kaggle/input/recommendationsv4/train.csv'"
     ]
    }
   ],
   "source": [
    "train = pd.read_csv('/kaggle/input/recommendationsv4/train.csv')\n",
    "test = pd.read_csv('/kaggle/input/recommendationsv4/test.csv')\n",
    "submission = pd.read_csv('/kaggle/input/recommendationsv4/sample_submission.csv')"
   ]
  },
  {
   "cell_type": "code",
   "execution_count": 3,
   "id": "879343d0",
   "metadata": {},
   "outputs": [
    {
     "name": "stderr",
     "output_type": "stream",
     "text": [
      "/Users/imac/anaconda3/lib/python3.8/site-packages/IPython/core/interactiveshell.py:3165: DtypeWarning: Columns (8) have mixed types.Specify dtype option on import or set low_memory=False.\n",
      "  has_raised = await self.run_ast_nodes(code_ast.body, cell_name,\n",
      "/Users/imac/anaconda3/lib/python3.8/site-packages/IPython/core/interactiveshell.py:3165: DtypeWarning: Columns (5) have mixed types.Specify dtype option on import or set low_memory=False.\n",
      "  has_raised = await self.run_ast_nodes(code_ast.body, cell_name,\n"
     ]
    }
   ],
   "source": [
    "# train = pd.read_csv('train.csv')\n",
    "# test = pd.read_csv('test.csv')\n",
    "# submission = pd.read_csv('sample_submission.csv')"
   ]
  },
  {
   "cell_type": "markdown",
   "id": "bbd7774f",
   "metadata": {},
   "source": [
    "Анализ содержания датасета указывает на то, что в нем клиенты оценивали кухню различных пунктов общественного питания: ресторанов, кафе и т.п. "
   ]
  },
  {
   "cell_type": "code",
   "execution_count": 4,
   "id": "a0f52b54",
   "metadata": {},
   "outputs": [
    {
     "data": {
      "text/html": [
       "<div>\n",
       "<style scoped>\n",
       "    .dataframe tbody tr th:only-of-type {\n",
       "        vertical-align: middle;\n",
       "    }\n",
       "\n",
       "    .dataframe tbody tr th {\n",
       "        vertical-align: top;\n",
       "    }\n",
       "\n",
       "    .dataframe thead th {\n",
       "        text-align: right;\n",
       "    }\n",
       "</style>\n",
       "<table border=\"1\" class=\"dataframe\">\n",
       "  <thead>\n",
       "    <tr style=\"text-align: right;\">\n",
       "      <th></th>\n",
       "      <th>overall</th>\n",
       "      <th>verified</th>\n",
       "      <th>reviewTime</th>\n",
       "      <th>asin</th>\n",
       "      <th>reviewerName</th>\n",
       "      <th>reviewText</th>\n",
       "      <th>summary</th>\n",
       "      <th>unixReviewTime</th>\n",
       "      <th>vote</th>\n",
       "      <th>style</th>\n",
       "      <th>image</th>\n",
       "      <th>userid</th>\n",
       "      <th>itemid</th>\n",
       "      <th>rating</th>\n",
       "    </tr>\n",
       "  </thead>\n",
       "  <tbody>\n",
       "    <tr>\n",
       "      <th>0</th>\n",
       "      <td>5.0</td>\n",
       "      <td>True</td>\n",
       "      <td>10 4, 2016</td>\n",
       "      <td>B01CPNIEQG</td>\n",
       "      <td>Heather</td>\n",
       "      <td>These are my FAVORITE spices in my collection....</td>\n",
       "      <td>Must Add to your Spice kitchen!</td>\n",
       "      <td>1475539200</td>\n",
       "      <td>NaN</td>\n",
       "      <td>NaN</td>\n",
       "      <td>NaN</td>\n",
       "      <td>102179</td>\n",
       "      <td>37138</td>\n",
       "      <td>1.0</td>\n",
       "    </tr>\n",
       "    <tr>\n",
       "      <th>1</th>\n",
       "      <td>5.0</td>\n",
       "      <td>True</td>\n",
       "      <td>03 1, 2016</td>\n",
       "      <td>B006F63M8U</td>\n",
       "      <td>Linda Odom</td>\n",
       "      <td>Add A package to my Coffee and it makes a good...</td>\n",
       "      <td>Milk Chocolate Swiis MIss Hot Cocoa Mix</td>\n",
       "      <td>1456790400</td>\n",
       "      <td>NaN</td>\n",
       "      <td>{'Size:': ' 60-0.73 oz Envelopes'}</td>\n",
       "      <td>NaN</td>\n",
       "      <td>3625</td>\n",
       "      <td>17322</td>\n",
       "      <td>1.0</td>\n",
       "    </tr>\n",
       "    <tr>\n",
       "      <th>2</th>\n",
       "      <td>5.0</td>\n",
       "      <td>True</td>\n",
       "      <td>06 26, 2016</td>\n",
       "      <td>B00112O8NG</td>\n",
       "      <td>DesertBlossom</td>\n",
       "      <td>I love the Torani syrups, but not the prices o...</td>\n",
       "      <td>Love these sugar free syrups, but didn't love ...</td>\n",
       "      <td>1466899200</td>\n",
       "      <td>28</td>\n",
       "      <td>NaN</td>\n",
       "      <td>NaN</td>\n",
       "      <td>39495</td>\n",
       "      <td>5600</td>\n",
       "      <td>1.0</td>\n",
       "    </tr>\n",
       "    <tr>\n",
       "      <th>3</th>\n",
       "      <td>5.0</td>\n",
       "      <td>True</td>\n",
       "      <td>09 5, 2013</td>\n",
       "      <td>B00MRAQUM8</td>\n",
       "      <td>Connie L. Reaves</td>\n",
       "      <td>Very fragrant. The price can't be beat. I do l...</td>\n",
       "      <td>Nice !</td>\n",
       "      <td>1378339200</td>\n",
       "      <td>NaN</td>\n",
       "      <td>NaN</td>\n",
       "      <td>NaN</td>\n",
       "      <td>72854</td>\n",
       "      <td>30249</td>\n",
       "      <td>1.0</td>\n",
       "    </tr>\n",
       "    <tr>\n",
       "      <th>4</th>\n",
       "      <td>5.0</td>\n",
       "      <td>True</td>\n",
       "      <td>09 14, 2016</td>\n",
       "      <td>B000R7RN0G</td>\n",
       "      <td>Mike P.</td>\n",
       "      <td>These are my favorite jalapeno chips so far. T...</td>\n",
       "      <td>These are my favorite jalapeno chips so far</td>\n",
       "      <td>1473811200</td>\n",
       "      <td>NaN</td>\n",
       "      <td>{'Flavor:': ' Jalapeo'}</td>\n",
       "      <td>NaN</td>\n",
       "      <td>74859</td>\n",
       "      <td>4349</td>\n",
       "      <td>1.0</td>\n",
       "    </tr>\n",
       "    <tr>\n",
       "      <th>...</th>\n",
       "      <td>...</td>\n",
       "      <td>...</td>\n",
       "      <td>...</td>\n",
       "      <td>...</td>\n",
       "      <td>...</td>\n",
       "      <td>...</td>\n",
       "      <td>...</td>\n",
       "      <td>...</td>\n",
       "      <td>...</td>\n",
       "      <td>...</td>\n",
       "      <td>...</td>\n",
       "      <td>...</td>\n",
       "      <td>...</td>\n",
       "      <td>...</td>\n",
       "    </tr>\n",
       "    <tr>\n",
       "      <th>857890</th>\n",
       "      <td>5.0</td>\n",
       "      <td>True</td>\n",
       "      <td>04 2, 2013</td>\n",
       "      <td>B000H7ELTW</td>\n",
       "      <td>chezlouise</td>\n",
       "      <td>Next to the round variety hanging on my cherry...</td>\n",
       "      <td>next to the round variety............</td>\n",
       "      <td>1364860800</td>\n",
       "      <td>NaN</td>\n",
       "      <td>{'Flavor:': ' Dried Cherries'}</td>\n",
       "      <td>NaN</td>\n",
       "      <td>59433</td>\n",
       "      <td>2566</td>\n",
       "      <td>1.0</td>\n",
       "    </tr>\n",
       "    <tr>\n",
       "      <th>857891</th>\n",
       "      <td>2.0</td>\n",
       "      <td>True</td>\n",
       "      <td>12 13, 2015</td>\n",
       "      <td>B0012NI02O</td>\n",
       "      <td>Robert F. O&amp;#039;Bryan</td>\n",
       "      <td>Not my cup of tea.</td>\n",
       "      <td>Two Stars</td>\n",
       "      <td>1449964800</td>\n",
       "      <td>NaN</td>\n",
       "      <td>{'Package Quantity:': ' 1'}</td>\n",
       "      <td>NaN</td>\n",
       "      <td>86473</td>\n",
       "      <td>5828</td>\n",
       "      <td>0.0</td>\n",
       "    </tr>\n",
       "    <tr>\n",
       "      <th>857892</th>\n",
       "      <td>4.0</td>\n",
       "      <td>False</td>\n",
       "      <td>09 21, 2016</td>\n",
       "      <td>B000LKX6R8</td>\n",
       "      <td>bamboo grove</td>\n",
       "      <td>I really like these noodles, I just gave it on...</td>\n",
       "      <td>good but better value elsewhere</td>\n",
       "      <td>1474416000</td>\n",
       "      <td>NaN</td>\n",
       "      <td>{'Size:': ' Pack of 8'}</td>\n",
       "      <td>NaN</td>\n",
       "      <td>88</td>\n",
       "      <td>3251</td>\n",
       "      <td>1.0</td>\n",
       "    </tr>\n",
       "    <tr>\n",
       "      <th>857893</th>\n",
       "      <td>4.0</td>\n",
       "      <td>True</td>\n",
       "      <td>11 1, 2015</td>\n",
       "      <td>B00BUKL666</td>\n",
       "      <td>Speedway91</td>\n",
       "      <td>I like these, they are the kind for a snack an...</td>\n",
       "      <td>Great selection</td>\n",
       "      <td>1446336000</td>\n",
       "      <td>NaN</td>\n",
       "      <td>NaN</td>\n",
       "      <td>NaN</td>\n",
       "      <td>41540</td>\n",
       "      <td>22208</td>\n",
       "      <td>1.0</td>\n",
       "    </tr>\n",
       "    <tr>\n",
       "      <th>857894</th>\n",
       "      <td>5.0</td>\n",
       "      <td>True</td>\n",
       "      <td>08 3, 2017</td>\n",
       "      <td>B000JJHDVG</td>\n",
       "      <td>Elizabeth E. Castor</td>\n",
       "      <td>Like this product.  Its great in the shaker fo...</td>\n",
       "      <td>Five Stars</td>\n",
       "      <td>1501718400</td>\n",
       "      <td>NaN</td>\n",
       "      <td>NaN</td>\n",
       "      <td>NaN</td>\n",
       "      <td>466</td>\n",
       "      <td>2931</td>\n",
       "      <td>1.0</td>\n",
       "    </tr>\n",
       "  </tbody>\n",
       "</table>\n",
       "<p>857895 rows × 14 columns</p>\n",
       "</div>"
      ],
      "text/plain": [
       "        overall  verified   reviewTime        asin            reviewerName  \\\n",
       "0           5.0      True   10 4, 2016  B01CPNIEQG                 Heather   \n",
       "1           5.0      True   03 1, 2016  B006F63M8U              Linda Odom   \n",
       "2           5.0      True  06 26, 2016  B00112O8NG           DesertBlossom   \n",
       "3           5.0      True   09 5, 2013  B00MRAQUM8        Connie L. Reaves   \n",
       "4           5.0      True  09 14, 2016  B000R7RN0G                 Mike P.   \n",
       "...         ...       ...          ...         ...                     ...   \n",
       "857890      5.0      True   04 2, 2013  B000H7ELTW              chezlouise   \n",
       "857891      2.0      True  12 13, 2015  B0012NI02O  Robert F. O&#039;Bryan   \n",
       "857892      4.0     False  09 21, 2016  B000LKX6R8            bamboo grove   \n",
       "857893      4.0      True   11 1, 2015  B00BUKL666              Speedway91   \n",
       "857894      5.0      True   08 3, 2017  B000JJHDVG     Elizabeth E. Castor   \n",
       "\n",
       "                                               reviewText  \\\n",
       "0       These are my FAVORITE spices in my collection....   \n",
       "1       Add A package to my Coffee and it makes a good...   \n",
       "2       I love the Torani syrups, but not the prices o...   \n",
       "3       Very fragrant. The price can't be beat. I do l...   \n",
       "4       These are my favorite jalapeno chips so far. T...   \n",
       "...                                                   ...   \n",
       "857890  Next to the round variety hanging on my cherry...   \n",
       "857891                                 Not my cup of tea.   \n",
       "857892  I really like these noodles, I just gave it on...   \n",
       "857893  I like these, they are the kind for a snack an...   \n",
       "857894  Like this product.  Its great in the shaker fo...   \n",
       "\n",
       "                                                  summary  unixReviewTime  \\\n",
       "0                         Must Add to your Spice kitchen!      1475539200   \n",
       "1                 Milk Chocolate Swiis MIss Hot Cocoa Mix      1456790400   \n",
       "2       Love these sugar free syrups, but didn't love ...      1466899200   \n",
       "3                                                  Nice !      1378339200   \n",
       "4             These are my favorite jalapeno chips so far      1473811200   \n",
       "...                                                   ...             ...   \n",
       "857890              next to the round variety............      1364860800   \n",
       "857891                                          Two Stars      1449964800   \n",
       "857892                    good but better value elsewhere      1474416000   \n",
       "857893                                    Great selection      1446336000   \n",
       "857894                                         Five Stars      1501718400   \n",
       "\n",
       "       vote                               style image  userid  itemid  rating  \n",
       "0       NaN                                 NaN   NaN  102179   37138     1.0  \n",
       "1       NaN  {'Size:': ' 60-0.73 oz Envelopes'}   NaN    3625   17322     1.0  \n",
       "2        28                                 NaN   NaN   39495    5600     1.0  \n",
       "3       NaN                                 NaN   NaN   72854   30249     1.0  \n",
       "4       NaN             {'Flavor:': ' Jalapeo'}   NaN   74859    4349     1.0  \n",
       "...     ...                                 ...   ...     ...     ...     ...  \n",
       "857890  NaN      {'Flavor:': ' Dried Cherries'}   NaN   59433    2566     1.0  \n",
       "857891  NaN         {'Package Quantity:': ' 1'}   NaN   86473    5828     0.0  \n",
       "857892  NaN             {'Size:': ' Pack of 8'}   NaN      88    3251     1.0  \n",
       "857893  NaN                                 NaN   NaN   41540   22208     1.0  \n",
       "857894  NaN                                 NaN   NaN     466    2931     1.0  \n",
       "\n",
       "[857895 rows x 14 columns]"
      ]
     },
     "execution_count": 4,
     "metadata": {},
     "output_type": "execute_result"
    }
   ],
   "source": [
    "# будем работать с копией датасета\n",
    "df_train = train.copy()\n",
    "df_train"
   ]
  },
  {
   "cell_type": "code",
   "execution_count": 5,
   "id": "85edde01",
   "metadata": {},
   "outputs": [
    {
     "name": "stdout",
     "output_type": "stream",
     "text": [
      "<class 'pandas.core.frame.DataFrame'>\n",
      "RangeIndex: 857895 entries, 0 to 857894\n",
      "Data columns (total 14 columns):\n",
      " #   Column          Non-Null Count   Dtype  \n",
      "---  ------          --------------   -----  \n",
      " 0   overall         857895 non-null  float64\n",
      " 1   verified        857895 non-null  bool   \n",
      " 2   reviewTime      857895 non-null  object \n",
      " 3   asin            857895 non-null  object \n",
      " 4   reviewerName    857719 non-null  object \n",
      " 5   reviewText      857616 non-null  object \n",
      " 6   summary         857725 non-null  object \n",
      " 7   unixReviewTime  857895 non-null  int64  \n",
      " 8   vote            118740 non-null  object \n",
      " 9   style           444406 non-null  object \n",
      " 10  image           7142 non-null    object \n",
      " 11  userid          857895 non-null  int64  \n",
      " 12  itemid          857895 non-null  int64  \n",
      " 13  rating          857895 non-null  float64\n",
      "dtypes: bool(1), float64(2), int64(3), object(8)\n",
      "memory usage: 85.9+ MB\n"
     ]
    }
   ],
   "source": [
    "df_train.info()"
   ]
  },
  {
   "cell_type": "code",
   "execution_count": 6,
   "id": "389078b1",
   "metadata": {},
   "outputs": [],
   "source": [
    "# колонки с датой отзыва извлекаем ряд признаков: год, месяц, день недели, последний потом преобразуем \n",
    "# в значение 1 для пятницы, субботы и воскресенья (уикэнд) и 0 для обычных дней.\n",
    "# Впрочем, анализ всех этих новых признаков показал крайнюю незначительность их влияния на результат. \n",
    "# Поэтому они не учитывались в конечном обучении. Также были впоследствии фактически были отброшены признаки verified, \n",
    "# unixReviewTime, asinб reviewerName, reviewText, vote, style, image  \n",
    "\n",
    "df_train[\"reviewTime\"] = df_train[\"reviewTime\"].apply(lambda x: datetime.strptime(str(x), \"%m %d, %Y\"))\n",
    "df_train['year'] = pd.DatetimeIndex(df_train['reviewTime']).year\n",
    "df_train['month'] = pd.DatetimeIndex(df_train['reviewTime']).month\n",
    "df_train['week_day'] = pd.DatetimeIndex(df_train['reviewTime']).dayofweek\n",
    "df_train['week_end'] = 0\n",
    "df_train.loc[df_train['week_day'] > 3, 'week_end'] = 1"
   ]
  },
  {
   "cell_type": "markdown",
   "id": "36fd0f74",
   "metadata": {},
   "source": [
    "Было учтено, что значениям 4 и 5 в колонке overall соответствует значение 1 в колонке rating. То есть это своего рода рекомендация соответствующего item конкретному user.\n",
    "Pначениям 1 - 3 в колонке overall соответствует значение 0 в колонке rating.\n",
    "\n",
    "Были совершены следующие последовательные операции с текстами отзывов - summary. \n",
    "0. Заполнены пропуски в колонке summary - fillna('unknown').\n",
    "1. Они были переведены в нижний регистр с помощью lower().\n",
    "2. Была введена колонка polarities с указанием на полярность отзывов, определяемую с помощью TextBlob().sentiment.polarity.\n",
    "3. Поскольку TextBlob().sentiment.polarity плохо обработал отзывы с присвоением определенного количества звёзд (\"five stars\" и т.д., а также неизвестные отзывы 'unknown'), по этим позициям была принудительно присвоена полярность отзыва с учетом его наиболее распространенной оценки для такого отзыва, неизвестному отзыву - принудительно присвоена полярность 0.\n",
    "4. С учетом преобразований было выявлено, что нужна дополнительная обработка позиций полярности с учетом проверки рейтинговых оценок по нулевой, положительной и отрицательной полярности, так как:\n",
    "- по нулевой полярности на 128 тыс. положительных оценок (4 или 5) приходится 38 тыс. отрицательных (1, 2 или 3),\n",
    "- по положительной полярности на 580 тыс. положительных оценок приходится 40 тыс. отрицательных,\n",
    "- по отрицательной полярности на 50 тыс. отрицательных оценок приходится 17 тыс. положительных\n",
    "5. Поэтому если полярность была определена в качестве нулевой и отзыв содержал \"yum\", \"tasty\", \"delish\", \"addictive\" - указание на вкусную еду, полярность принудительно приравнивали к 1. Если полярность была определена в качестве нулевой и отзыв содержал \"meh\" - указание на невкусную еду (согласно абсолютному большинству оценок), полярность принудительно приравнивали к -1.\n",
    "6. Также была определена субъективность отзыва"
   ]
  },
  {
   "cell_type": "code",
   "execution_count": 7,
   "id": "b1d116ca",
   "metadata": {},
   "outputs": [],
   "source": [
    "df_train.summary = df_train.summary.fillna('unknown')\n",
    "df_train.summary = df_train.summary.apply(lambda x: x.lower())\n",
    "\n",
    "df_train['polarities'] = df_train.summary\n",
    "df_train.polarities = df_train.polarities.apply(lambda x: TextBlob(x).sentiment.polarity)\n",
    "\n",
    "df_train.loc[df_train.summary == 'five stars', 'polarities'] = 1.0\n",
    "df_train.loc[df_train.summary == 'four stars', 'polarities'] = 0.5\n",
    "df_train.loc[df_train.summary == 'three stars', 'polarities'] = -0.5\n",
    "df_train.loc[df_train.summary == 'two stars', 'polarities'] = -1.0\n",
    "df_train.loc[df_train.summary == 'one star', 'polarities'] = -1.0\n",
    "df_train.loc[df_train.summary == 'unknown', 'polarities'] = 0.0\n",
    "\n",
    "df_train.loc[(df_train.polarities == 0) & (df_train.summary.str.contains(\"yum\")),'polarities'] = 1.0  \n",
    "df_train.loc[(df_train.polarities == 0) & (df_train.summary.str.contains(\"tasty\")),'polarities'] = 1.0  \n",
    "df_train.loc[(df_train.polarities == 0) & (df_train.summary.str.contains(\"delish\")),'polarities'] = 1.0  \n",
    "df_train.loc[(df_train.polarities == 0) & (df_train.summary.str.contains(\"addictive\")),'polarities'] = 1.0  \n",
    "df_train.loc[(df_train.polarities == 0) & (df_train.summary.str.contains(\"meh\")),'polarities'] = -1.0  "
   ]
  },
  {
   "cell_type": "code",
   "execution_count": 8,
   "id": "250c8dff",
   "metadata": {},
   "outputs": [],
   "source": [
    "df_train['subjectivities'] = df_train.summary\n",
    "df_train.subjectivities = df_train.subjectivities.apply(lambda x: TextBlob(x).sentiment.subjectivity)"
   ]
  },
  {
   "cell_type": "markdown",
   "id": "5ca10793",
   "metadata": {},
   "source": [
    "Дальше была проверена гипотеза, согласно которой должно иметь ниболее важное значение для обучения среднее значение рейтинга, поставленного одним клиентом (это выявляет его общий настрой и разборчивость в потреблении), а также\n",
    "среднее значение рейтинга для конкретного пункта общественного питания (это выявляет общий уровень заведения и отношение к нему разных клиентов). Первоначально учитывались и другие усредненные позиции для конкретного клиента и конкретного продукта (полярность отзыва, субъективность отзыва, верификация отзыва). Однако обучение модели с другими усредненными позициями по признакам (полярность, субъективность и др.) привели у ухудшению значений метрик качества. Отчасти это было связано с тем, что высокая полярность отзыва (даже с указанием на очень вкусную кухню, 5 звёзд и т.п. не является гарантией постановки высокого рейтинга соответствующим клиентом). К тому же имеется значительная ковариация между рейтингом и полярностью. Ниже на корреляционной матрице это будет заметно. \n",
    "Поэтому главным для учета в обучении, в конечном итоге, остались только средние значения рейтинга для конкретного клиента и для конкретного заведения.  \n"
   ]
  },
  {
   "cell_type": "code",
   "execution_count": 9,
   "id": "56b1b59d",
   "metadata": {},
   "outputs": [],
   "source": [
    "df_train['user_id'] = df_train['userid']\n",
    "df_train['item_id'] = df_train['itemid']"
   ]
  },
  {
   "cell_type": "code",
   "execution_count": 10,
   "id": "50c49a3c",
   "metadata": {},
   "outputs": [],
   "source": [
    "dict_itemid_mean = dict(10*df_train.groupby(['item_id']).overall.mean()) # умножаем средние значения рейтинга \n",
    "# по конкретному продукту на 10, так как тестирование показало наилучший результат при умножении среднего значения\n",
    "# на этот коэффициент из следующих коэффициентов 1, 10, 100 и 1000. \n",
    "dict_userid_mean = dict(10*df_train.groupby(['user_id']).overall.mean()) # то же самое делаем по конкретному \n",
    "# потребителю\n",
    "\n",
    "dict_subjectivities_item_mean = dict(df_train.groupby(['item_id']).subjectivities.mean())\n",
    "\n",
    "dict_polarities_item_mean = dict(df_train.groupby(['item_id']).polarities.mean())\n",
    "\n",
    "dict_subjectivities_user_mean = dict(df_train.groupby(['user_id']).subjectivities.mean())\n",
    "\n",
    "dict_polarities_user_mean = dict(df_train.groupby(['user_id']).polarities.mean())\n",
    "\n",
    "\n",
    "df_train['itemid'],df_train['subjectivities_for_item_mean'],df_train['polarities_for_item_mean'] \\\n",
    "= df_train['item_id'],df_train['item_id'],df_train['item_id']\n",
    "\n",
    "df_train['userid'],df_train['subjectivities_for_user_mean'],df_train['polarities_for_user_mean'] \\\n",
    "= df_train['user_id'],df_train['user_id'],df_train['user_id'] \n",
    "\n",
    "\n",
    "df_train['subjectivities_for_item_mean'] = \\\n",
    "df_train.subjectivities_for_item_mean.apply(lambda x: dict_subjectivities_item_mean[x])\n",
    "\n",
    "df_train['polarities_for_item_mean'] = \\\n",
    "df_train.polarities_for_item_mean.apply(lambda x: dict_polarities_item_mean[x])\n",
    "\n",
    "df_train['itemid'] = df_train.itemid.apply(lambda x: dict_itemid_mean[x])\n",
    "\n",
    "df_train['subjectivities_for_user_mean'] = \\\n",
    "df_train.subjectivities_for_user_mean.apply(lambda x: dict_subjectivities_user_mean[x])\n",
    "\n",
    "df_train['polarities_for_user_mean'] = \\\n",
    "df_train.polarities_for_user_mean.apply(lambda x: dict_polarities_user_mean[x])\n",
    "\n",
    "df_train['userid'] = df_train.userid.apply(lambda x: dict_userid_mean[x])\n",
    "\n"
   ]
  },
  {
   "cell_type": "code",
   "execution_count": 11,
   "id": "0acacd08",
   "metadata": {},
   "outputs": [
    {
     "name": "stderr",
     "output_type": "stream",
     "text": [
      "/Users/imac/anaconda3/lib/python3.8/site-packages/sklearn/metrics/cluster/_supervised.py:58: UserWarning: Clustering metrics expects discrete values but received continuous values for label, and binary values for target\n",
      "  warnings.warn(msg, UserWarning)\n",
      "/Users/imac/anaconda3/lib/python3.8/site-packages/sklearn/metrics/cluster/_supervised.py:58: UserWarning: Clustering metrics expects discrete values but received continuous values for label, and binary values for target\n",
      "  warnings.warn(msg, UserWarning)\n",
      "/Users/imac/anaconda3/lib/python3.8/site-packages/sklearn/metrics/cluster/_supervised.py:58: UserWarning: Clustering metrics expects discrete values but received continuous values for label, and binary values for target\n",
      "  warnings.warn(msg, UserWarning)\n",
      "/Users/imac/anaconda3/lib/python3.8/site-packages/sklearn/metrics/cluster/_supervised.py:58: UserWarning: Clustering metrics expects discrete values but received continuous values for label, and binary values for target\n",
      "  warnings.warn(msg, UserWarning)\n",
      "/Users/imac/anaconda3/lib/python3.8/site-packages/sklearn/metrics/cluster/_supervised.py:58: UserWarning: Clustering metrics expects discrete values but received continuous values for label, and binary values for target\n",
      "  warnings.warn(msg, UserWarning)\n",
      "/Users/imac/anaconda3/lib/python3.8/site-packages/sklearn/metrics/cluster/_supervised.py:58: UserWarning: Clustering metrics expects discrete values but received continuous values for label, and binary values for target\n",
      "  warnings.warn(msg, UserWarning)\n"
     ]
    },
    {
     "data": {
      "text/plain": [
       "<AxesSubplot:>"
      ]
     },
     "execution_count": 11,
     "metadata": {},
     "output_type": "execute_result"
    },
    {
     "data": {
      "image/png": "[encoded data removed]",
      "text/plain": [
       "<Figure size 1152x720 with 1 Axes>"
      ]
     },
     "metadata": {
      "needs_background": "light"
     },
     "output_type": "display_data"
    }
   ],
   "source": [
    "cols = ['unixReviewTime','userid','itemid','year','week_end','subjectivities_for_item_mean',\n",
    "        'polarities_for_item_mean','subjectivities_for_user_mean','polarities_for_user_mean'] \n",
    "\n",
    "imp_cat = Series(mutual_info_classif(df_train[cols], \n",
    "                                     df_train['rating'], discrete_features =True), \n",
    "                 index = cols)\n",
    "imp_cat.sort_values(inplace = True)\n",
    "plt.figure(figsize=(16, 10))\n",
    "imp_cat.plot(kind = 'barh')"
   ]
  },
  {
   "cell_type": "markdown",
   "id": "a250e985",
   "metadata": {},
   "source": [
    "Как было отмечено выше, несмотря на высокую значимость средних значений полярности и средних значений субъективности, они не дали прироста качеству модели. К тому же была высокая степень корреляции (ковариация) с признаками userid и itemid"
   ]
  },
  {
   "cell_type": "code",
   "execution_count": 12,
   "id": "e77519bb",
   "metadata": {},
   "outputs": [
    {
     "data": {
      "text/plain": [
       "<AxesSubplot:>"
      ]
     },
     "execution_count": 12,
     "metadata": {},
     "output_type": "execute_result"
    },
    {
     "data": {
      "image/png": "[encoded data removed]",
      "text/plain": [
       "<Figure size 1152x720 with 2 Axes>"
      ]
     },
     "metadata": {
      "needs_background": "light"
     },
     "output_type": "display_data"
    }
   ],
   "source": [
    "# составляем корреляционную матрица признаков\n",
    "\n",
    "df_train_corr = df_train[['unixReviewTime','userid','itemid','year','week_end','subjectivities_for_item_mean',\n",
    "        'polarities_for_item_mean','subjectivities_for_user_mean','polarities_for_user_mean','overall','rating']]\n",
    "\n",
    "corr_scoring = df_train_corr.corr()\n",
    "plt.figure(figsize=(16, 10)) # увеличиваем размер теповой карты\n",
    "sns.heatmap(corr_scoring, annot=True, cmap='coolwarm')"
   ]
  },
  {
   "cell_type": "code",
   "execution_count": 13,
   "id": "6271f477",
   "metadata": {},
   "outputs": [],
   "source": [
    "# делим датасет на обучающую часть и тренировочную\n",
    "\n",
    "train_data, test_data = train_test_split(df_train,random_state=32, shuffle=True)\n"
   ]
  },
  {
   "cell_type": "code",
   "execution_count": 14,
   "id": "1945a620",
   "metadata": {},
   "outputs": [],
   "source": [
    "# делаем матричное разложение\n",
    "\n",
    "ratings_coo = sparse.coo_matrix((train_data['rating'].astype(int),\n",
    "                                 (train_data['userid'].astype(int),\n",
    "                                  train_data['itemid'].astype(int))))"
   ]
  },
  {
   "cell_type": "code",
   "execution_count": 15,
   "id": "475d5893",
   "metadata": {},
   "outputs": [],
   "source": [
    "NUM_THREADS = 4 #число потоков\n",
    "NUM_COMPONENTS = 30 #число параметров вектора \n",
    "NUM_EPOCHS = 20 #число эпох обучения\n",
    "\n",
    "model = LightFM(learning_rate=0.1, loss='logistic',\n",
    "                no_components=NUM_COMPONENTS)\n",
    "model = model.fit(ratings_coo, epochs=NUM_EPOCHS, \n",
    "                  num_threads=NUM_THREADS)"
   ]
  },
  {
   "cell_type": "code",
   "execution_count": 16,
   "id": "6a3d5caf",
   "metadata": {},
   "outputs": [],
   "source": [
    "preds = model.predict(test_data.userid.values,\n",
    "                      test_data.itemid.values)"
   ]
  },
  {
   "cell_type": "code",
   "execution_count": 17,
   "id": "d8b85f3f",
   "metadata": {},
   "outputs": [
    {
     "data": {
      "text/plain": [
       "(-9.743284, 18.921383)"
      ]
     },
     "execution_count": 17,
     "metadata": {},
     "output_type": "execute_result"
    }
   ],
   "source": [
    "preds.min(), preds.max()"
   ]
  },
  {
   "cell_type": "code",
   "execution_count": 18,
   "id": "7df3dc0d",
   "metadata": {},
   "outputs": [],
   "source": [
    "normalized_preds = (preds - preds.min())/(preds - preds.min()).max()"
   ]
  },
  {
   "cell_type": "code",
   "execution_count": 19,
   "id": "cb983a8c",
   "metadata": {},
   "outputs": [
    {
     "data": {
      "text/plain": [
       "(0.0, 1.0)"
      ]
     },
     "execution_count": 19,
     "metadata": {},
     "output_type": "execute_result"
    }
   ],
   "source": [
    "normalized_preds.min(), normalized_preds.max()"
   ]
  },
  {
   "cell_type": "code",
   "execution_count": 20,
   "id": "2688c920",
   "metadata": {},
   "outputs": [
    {
     "data": {
      "image/png": "[encoded data removed]",
      "text/plain": [
       "<Figure size 432x288 with 1 Axes>"
      ]
     },
     "metadata": {
      "needs_background": "light"
     },
     "output_type": "display_data"
    }
   ],
   "source": [
    "# метрики качества модели \n",
    "fpr, tpr, threshold = roc_curve(test_data.rating, normalized_preds)\n",
    "roc_auc = roc_auc_score(test_data.rating, normalized_preds)\n",
    "\n",
    "plt.figure()\n",
    "plt.plot([0, 1], label='Baseline', linestyle='--')\n",
    "plt.plot(fpr, tpr, label = 'Regression')\n",
    "plt.title('Logistic Regression ROC AUC = %0.3f' % roc_auc)\n",
    "plt.ylabel('True Positive Rate')\n",
    "plt.xlabel('False Positive Rate')\n",
    "plt.legend(loc = 'lower right')\n",
    "plt.show()\n"
   ]
  },
  {
   "cell_type": "code",
   "execution_count": 21,
   "id": "40588160",
   "metadata": {},
   "outputs": [
    {
     "name": "stdout",
     "output_type": "stream",
     "text": [
      "              precision    recall  f1-score   support\n",
      "\n",
      "     class 0       0.23      1.00      0.37     32626\n",
      "     class 1       1.00      0.40      0.57    181848\n",
      "\n",
      "    accuracy                           0.49    214474\n",
      "   macro avg       0.61      0.70      0.47    214474\n",
      "weighted avg       0.88      0.49      0.54    214474\n",
      "\n"
     ]
    }
   ],
   "source": [
    "y_pred = np.round(normalized_preds) # округленные значения ухудшают результат обучения. \n",
    "target_names = ['class 0', 'class 1']\n",
    "print(classification_report(test_data.rating, y_pred, target_names=target_names))"
   ]
  },
  {
   "cell_type": "markdown",
   "id": "a9d99c5a",
   "metadata": {},
   "source": [
    "Модель чаще рекомендует товар, чем не рекомендует. \n",
    "Для \"холодного\" клиента можно применить подход рекомендации товара, имеющего высокие показатели среднего рейтинга, а дальше адаптироваться под предпочтения покупателя"
   ]
  },
  {
   "cell_type": "markdown",
   "id": "7e4dea62",
   "metadata": {},
   "source": [
    "Теперь применим полученную модель к тестовому датасету"
   ]
  },
  {
   "cell_type": "code",
   "execution_count": 22,
   "id": "e69d6020",
   "metadata": {},
   "outputs": [],
   "source": [
    "# поскольку в тестовом датасете имеются items (немного, всего 18 штук), которых нет в тренировочном датасете, таким \n",
    "# items для целей применения модели были даны средние значения 5-бального рейтинга, умноженного на 10\n",
    "\n",
    "a = df_train.overall.mean()\n",
    "b = {35193:a, 29382:a, 6265:a, 6500:a, 33885:a, 23183:a, 35331:a, 34321:a, 5187:a, 32861:a, 38860:a, 2513:a,\n",
    "    38890:a, 2398:a, 6564:a, 39031:a, 39019:a, 38875:a} # числовые значения в этом словаре - это и есть \n",
    "# отсутствующие itemid в тренировочном датасете, выявленные вручную. Можно их было выявить и автоматически, \n",
    "# как это было сделано ниже с userid\n",
    "\n",
    "dict_itemid_mean.update(b) # добавили в первоначальный словарь словарь b"
   ]
  },
  {
   "cell_type": "code",
   "execution_count": 23,
   "id": "ab5a16fe",
   "metadata": {},
   "outputs": [],
   "source": [
    "# поскольку расхождение в количестве userid в тренировочном и тестовом датасетах заметно больше, чем \n",
    "# в количестве itemid (48 штук), будем добавлять усредненные значения автоматически, а не вручную\n",
    "\n",
    "test_users_id = test['userid'].values\n",
    "train_users_id = df_train['user_id'].values\n",
    "\n",
    "d = {}\n",
    "for i in test_users_id:\n",
    "    if i not in train_users_id:\n",
    "        c = {i:a}\n",
    "        d.update(c)\n",
    "\n",
    "dict_userid_mean.update(d)"
   ]
  },
  {
   "cell_type": "code",
   "execution_count": 24,
   "id": "a6266213",
   "metadata": {},
   "outputs": [],
   "source": [
    "# обрабатываем колонки под обучающую модель по аналогии с тем, как это было сделано в тренировочной модели\n",
    "\n",
    "test['itemid'] = test.itemid.apply(lambda x: dict_itemid_mean[x])\n",
    "test['userid'] = test.userid.apply(lambda x: dict_userid_mean[x])"
   ]
  },
  {
   "cell_type": "code",
   "execution_count": 25,
   "id": "b677cad6",
   "metadata": {},
   "outputs": [],
   "source": [
    "preds_test = model.predict(test.userid.values,\n",
    "                      test.itemid.values)"
   ]
  },
  {
   "cell_type": "code",
   "execution_count": 26,
   "id": "27ded563",
   "metadata": {},
   "outputs": [
    {
     "data": {
      "text/plain": [
       "(-9.743284, 18.921383)"
      ]
     },
     "execution_count": 26,
     "metadata": {},
     "output_type": "execute_result"
    }
   ],
   "source": [
    "preds_test.min(), preds_test.max()\n"
   ]
  },
  {
   "cell_type": "code",
   "execution_count": 27,
   "id": "73c88d01",
   "metadata": {},
   "outputs": [],
   "source": [
    "normalized_preds_test = (preds_test - preds_test.min())/(preds_test - preds_test.min()).max()"
   ]
  },
  {
   "cell_type": "code",
   "execution_count": 28,
   "id": "5dc05a78",
   "metadata": {},
   "outputs": [
    {
     "data": {
      "text/plain": [
       "(0.0, 1.0)"
      ]
     },
     "execution_count": 28,
     "metadata": {},
     "output_type": "execute_result"
    }
   ],
   "source": [
    "normalized_preds_test.min(), normalized_preds_test.max()"
   ]
  },
  {
   "cell_type": "code",
   "execution_count": 29,
   "id": "ee269253",
   "metadata": {},
   "outputs": [],
   "source": [
    "submission['rating']= normalized_preds_test"
   ]
  },
  {
   "cell_type": "code",
   "execution_count": 30,
   "id": "49dcb833",
   "metadata": {},
   "outputs": [],
   "source": [
    "submission.to_csv('submission_log.csv', index=False)"
   ]
  },
  {
   "cell_type": "code",
   "execution_count": null,
   "id": "ffcd78f1",
   "metadata": {},
   "outputs": [],
   "source": []
  }
 ],
 "metadata": {
  "kernelspec": {
   "display_name": "Python 3",
   "language": "python",
   "name": "python3"
  },
  "language_info": {
   "codemirror_mode": {
    "name": "ipython",
    "version": 3
   },
   "file_extension": ".py",
   "mimetype": "text/x-python",
   "name": "python",
   "nbconvert_exporter": "python",
   "pygments_lexer": "ipython3",
   "version": "3.8.8"
  }
 },
 "nbformat": 4,
 "nbformat_minor": 5
}
